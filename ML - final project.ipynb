{
 "cells": [
  {
   "cell_type": "code",
   "execution_count": 1025,
   "metadata": {
    "scrolled": true
   },
   "outputs": [],
   "source": [
    "from pathlib import Path\n",
    "import pandas as pd\n",
    "import matplotlib.pyplot as plt\n",
    "import numpy as np\n",
    "from sklearn import linear_model\n",
    "from sklearn.linear_model import LinearRegression\n",
    "from sklearn.model_selection import train_test_split\n",
    "from sklearn.neighbors import KNeighborsClassifier\n",
    "from sklearn import preprocessing\n",
    "from sklearn.metrics import accuracy_score ,precision_score, recall_score, f1_score\n",
    "from sklearn.tree import DecisionTreeClassifier\n",
    "from sklearn.ensemble import RandomForestClassifier\n",
    "from sklearn.ensemble import AdaBoostClassifier\n",
    "import plotly.graph_objects as go\n",
    "%matplotlib inline\n",
    "#import statsmodels.api as sm\n",
    "data_dir = Path(\"datasets\")"
   ]
  },
  {
   "cell_type": "raw",
   "metadata": {},
   "source": [
    "# Big mart sales: predict Item_Outlet_Sales\n",
    "filepath = data_dir / 'big mart sales' / 'data.csv'\n",
    "big_mart_sales = pd.read_csv(filepath)"
   ]
  },
  {
   "cell_type": "code",
   "execution_count": 962,
   "metadata": {},
   "outputs": [],
   "source": [
    "# Churn: predict churn\n",
    "file_path = data_dir / 'churn' / 'churn.csv'\n",
    "churn = pd.read_csv(file_path)"
   ]
  },
  {
   "cell_type": "markdown",
   "metadata": {},
   "source": [
    "# Data Cleaning"
   ]
  },
  {
   "cell_type": "code",
   "execution_count": 963,
   "metadata": {},
   "outputs": [],
   "source": [
    "\n",
    "churn = churn.drop(columns=['customerID'])"
   ]
  },
  {
   "cell_type": "code",
   "execution_count": 964,
   "metadata": {},
   "outputs": [],
   "source": [
    "numeric_churn = churn"
   ]
  },
  {
   "cell_type": "code",
   "execution_count": 965,
   "metadata": {},
   "outputs": [],
   "source": [
    "numeric_churn['TotalCharges'] = pd.to_numeric(numeric_churn.TotalCharges, errors='coerce')"
   ]
  },
  {
   "cell_type": "code",
   "execution_count": 966,
   "metadata": {},
   "outputs": [],
   "source": [
    "numeric_churn = pd.get_dummies(numeric_churn)"
   ]
  },
  {
   "cell_type": "code",
   "execution_count": 967,
   "metadata": {},
   "outputs": [],
   "source": [
    "numeric_churn = numeric_churn.drop(columns = ['Churn_No'])"
   ]
  },
  {
   "cell_type": "code",
   "execution_count": 968,
   "metadata": {},
   "outputs": [],
   "source": [
    "numeric_churn = numeric_churn[numeric_churn.tenure != 0 ]"
   ]
  },
  {
   "cell_type": "code",
   "execution_count": 969,
   "metadata": {},
   "outputs": [],
   "source": [
    "numeric_churn_corr = numeric_churn.corr()"
   ]
  },
  {
   "cell_type": "markdown",
   "metadata": {},
   "source": [
    "# Finding interesting relationships"
   ]
  },
  {
   "cell_type": "code",
   "execution_count": 970,
   "metadata": {},
   "outputs": [],
   "source": [
    "def label_disterbition():\n",
    "    names = ['Yes','No']\n",
    "    values = [churn.Churn[churn.Churn == 'Yes'].count(),churn.Churn[churn.Churn == 'No'].count()]\n",
    "    fig, axs = plt.subplots(1, 1, figsize=(5,5), sharey=True)\n",
    "    axs.bar(names, values)\n",
    "    fig.suptitle('Label Disturbition')"
   ]
  },
  {
   "cell_type": "code",
   "execution_count": 1007,
   "metadata": {},
   "outputs": [],
   "source": [
    "def corr_churn():\n",
    "    numeric_churn_corr = numeric_churn.corr()\n",
    "    highest_corr = numeric_churn_corr[numeric_churn_corr.Churn_Yes > 0.25 ]\n",
    "    lowest_corr = numeric_churn_corr[numeric_churn_corr.Churn_Yes < -0.25 ]\n",
    "    highlight_chrun_corr = pd.concat([highest_corr, lowest_corr]  )\n",
    "    highlight_chrun_corr['Churn_Yes'].drop('Churn_Yes').plot(kind='barh',\n",
    "                                                            title='Significant Corrlations with Churn',\n",
    "                                                                             )\n",
    "    "
   ]
  },
  {
   "cell_type": "code",
   "execution_count": 972,
   "metadata": {},
   "outputs": [],
   "source": [
    "def contract_type_compare():\n",
    "    churn_count = (churn.Churn[(churn.Churn == 'Yes')].count())\n",
    "    a = (churn.Churn[(churn.Contract == 'Month-to-month') & (churn.Churn == 'Yes')].count())/(churn_count)\n",
    "    b = (churn.Churn[(churn.Contract == 'One year') & (churn.Churn == 'Yes')].count())/(churn_count)\n",
    "    c = (churn.Churn[(churn.Contract == 'Two year') & (churn.Churn == 'Yes')].count())/(churn_count)\n",
    "    names = ['Month-to-month','One year','Two year']\n",
    "    values = [a,b ,c]\n",
    "    fig, axs = plt.subplots(1, 1, figsize=(5,5), sharey=True )\n",
    "    axs.bar(names, values)\n",
    "    fig.suptitle('Churn by Contract Type')"
   ]
  },
  {
   "cell_type": "code",
   "execution_count": 973,
   "metadata": {},
   "outputs": [
    {
     "data": {
      "image/png": "[encoded data removed]",
      "text/plain": [
       "<Figure size 360x360 with 1 Axes>"
      ]
     },
     "metadata": {
      "needs_background": "light"
     },
     "output_type": "display_data"
    }
   ],
   "source": [
    "label_disterbition()"
   ]
  },
  {
   "cell_type": "code",
   "execution_count": 1008,
   "metadata": {},
   "outputs": [
    {
     "data": {
      "image/png": "[encoded data removed]",
      "text/plain": [
       "<Figure size 432x288 with 1 Axes>"
      ]
     },
     "metadata": {
      "needs_background": "light"
     },
     "output_type": "display_data"
    }
   ],
   "source": [
    "corr_churn()"
   ]
  },
  {
   "cell_type": "code",
   "execution_count": 975,
   "metadata": {},
   "outputs": [
    {
     "data": {
      "image/png": "[encoded data removed]",
      "text/plain": [
       "<Figure size 360x360 with 1 Axes>"
      ]
     },
     "metadata": {
      "needs_background": "light"
     },
     "output_type": "display_data"
    }
   ],
   "source": [
    "contract_type_compare()"
   ]
  },
  {
   "cell_type": "markdown",
   "metadata": {},
   "source": [
    "# Data Splitting "
   ]
  },
  {
   "cell_type": "code",
   "execution_count": 976,
   "metadata": {
    "scrolled": true
   },
   "outputs": [
    {
     "name": "stdout",
     "output_type": "stream",
     "text": [
      "(5332, 45) (5332,) (1700, 45) (1700,)\n"
     ]
    }
   ],
   "source": [
    "from sklearn.model_selection import train_test_split\n",
    "test_size = 1700\n",
    "train, test = train_test_split(numeric_churn, test_size=test_size, random_state=0, shuffle=True)\n",
    "label = 'Churn_Yes'\n",
    "x_train, y_train = train.drop(label, axis=1), train[label]\n",
    "x_test, y_test = test.drop(label, axis=1), test[label]\n",
    "print(x_train.shape, y_train.shape, x_test.shape, y_test.shape)"
   ]
  },
  {
   "attachments": {},
   "cell_type": "markdown",
   "metadata": {},
   "source": [
    "# Classification Benchmark"
   ]
  },
  {
   "cell_type": "code",
   "execution_count": 977,
   "metadata": {},
   "outputs": [],
   "source": [
    "def Benchmark_algorithm():\n",
    "    print (\"Majority class benchmark rate :\", (1-(y_train.sum()/y_train.count())))"
   ]
  },
  {
   "cell_type": "code",
   "execution_count": 978,
   "metadata": {},
   "outputs": [
    {
     "name": "stdout",
     "output_type": "stream",
     "text": [
      "Majority class benchmark rate : 0.7304951237809452\n"
     ]
    }
   ],
   "source": [
    "Benchmark_algorithm()"
   ]
  },
  {
   "cell_type": "markdown",
   "metadata": {},
   "source": [
    "# KNN"
   ]
  },
  {
   "cell_type": "code",
   "execution_count": 1041,
   "metadata": {},
   "outputs": [],
   "source": [
    "def KNN():\n",
    "    numlist = [4,6,8]\n",
    "    for i in numlist:\n",
    "        clf = KNeighborsClassifier(n_neighbors=(i))\n",
    "        clf.fit(x_train, y_train)\n",
    "        y_train_pred = clf.predict(x_train)\n",
    "        y_test_pred = clf.predict(x_test)\n",
    "        train_acc = accuracy_score(y_train, y_train_pred)\n",
    "        test_acc = accuracy_score(y_test, y_test_pred)\n",
    "        precision_train_acc = precision_score(y_train, y_train_pred)\n",
    "        precision_test_acc = precision_score(y_test, y_test_pred)\n",
    "        print(\"KNN with\", i, \"Neighbors\")\n",
    "        print(\" Accuracy score of training set: \", train_acc)\n",
    "        print(\" Accuracy score of testing set: \", test_acc)\n",
    "        print(\" Precision score of training set: \", precision_train_acc)\n",
    "        print(\" Precision score of testing set: \", precision_test_acc)\n",
    "        print('*'*70)"
   ]
  },
  {
   "cell_type": "code",
   "execution_count": 1042,
   "metadata": {},
   "outputs": [
    {
     "name": "stdout",
     "output_type": "stream",
     "text": [
      "KNN with 4 Neighbors\n",
      " Accuracy score of training set:  0.8372093023255814\n",
      " Accuracy score of testing set:  0.7717647058823529\n",
      " Precision score of training set:  0.8499384993849939\n",
      " Precision score of testing set:  0.5827067669172933\n",
      "**********************************************************************\n",
      "KNN with 6 Neighbors\n",
      " Accuracy score of training set:  0.8225806451612904\n",
      " Accuracy score of testing set:  0.7811764705882352\n",
      " Precision score of training set:  0.7940119760479042\n",
      " Precision score of testing set:  0.6119402985074627\n",
      "**********************************************************************\n",
      "KNN with 8 Neighbors\n",
      " Accuracy score of training set:  0.8147036759189797\n",
      " Accuracy score of testing set:  0.7835294117647059\n",
      " Precision score of training set:  0.7663107947805456\n",
      " Precision score of testing set:  0.6230769230769231\n",
      "**********************************************************************\n"
     ]
    }
   ],
   "source": [
    "KNN()"
   ]
  },
  {
   "cell_type": "markdown",
   "metadata": {},
   "source": [
    "# KNN Scaled"
   ]
  },
  {
   "cell_type": "code",
   "execution_count": 1053,
   "metadata": {},
   "outputs": [],
   "source": [
    "def KNN_scaled():\n",
    "    numlist = [4,6,8]\n",
    "    for i in numlist:\n",
    "        from sklearn.preprocessing import StandardScaler\n",
    "        scaler = StandardScaler()\n",
    "        x_train_scaled = scaler.fit_transform(x_train)\n",
    "        x_test_scaled = scaler.transform(x_test)\n",
    "        clf = KNeighborsClassifier(n_neighbors=(i))\n",
    "        clf.fit(x_train_scaled, y_train)\n",
    "        train_acc = accuracy_score(y_train, y_train_pred)\n",
    "        test_acc = accuracy_score(y_test, y_test_pred)\n",
    "        precision_train_acc = precision_score(y_train, y_train_pred)\n",
    "        precision_test_acc = precision_score(y_test, y_test_pred)\n",
    "        print(\"KNN Scaled with\", i, \"Neighbors\")\n",
    "        print(\" Accuracy score of training set: \", train_acc)\n",
    "        print(\" Accuracy score of testing set: \", test_acc)\n",
    "        print(\" Precision score of training set: \", precision_train_acc)\n",
    "        print(\" Precision score of testing set: \", precision_test_acc)\n",
    "        print('*'*70)"
   ]
  },
  {
   "cell_type": "code",
   "execution_count": 1054,
   "metadata": {},
   "outputs": [
    {
     "name": "stdout",
     "output_type": "stream",
     "text": [
      "KNN Scaled with 4 Neighbors\n",
      " Accuracy score of training set:  0.8570892723180795\n",
      " Accuracy score of testing set:  0.741764705882353\n",
      " Precision score of training set:  0.7590176515732924\n",
      " Precision score of testing set:  0.4918032786885246\n",
      "**********************************************************************\n",
      "KNN Scaled with 6 Neighbors\n",
      " Accuracy score of training set:  0.8570892723180795\n",
      " Accuracy score of testing set:  0.741764705882353\n",
      " Precision score of training set:  0.7590176515732924\n",
      " Precision score of testing set:  0.4918032786885246\n",
      "**********************************************************************\n",
      "KNN Scaled with 8 Neighbors\n",
      " Accuracy score of training set:  0.8570892723180795\n",
      " Accuracy score of testing set:  0.741764705882353\n",
      " Precision score of training set:  0.7590176515732924\n",
      " Precision score of testing set:  0.4918032786885246\n",
      "**********************************************************************\n"
     ]
    }
   ],
   "source": [
    "KNN_scaled()"
   ]
  },
  {
   "cell_type": "markdown",
   "metadata": {},
   "source": [
    "# Desicion Tree"
   ]
  },
  {
   "cell_type": "code",
   "execution_count": 1061,
   "metadata": {},
   "outputs": [],
   "source": [
    "def desicion_tree():\n",
    "    x = numeric_churn.drop('Churn_Yes', axis=1)\n",
    "    y = numeric_churn.Churn_Yes\n",
    "    numlist = [4,20,42]\n",
    "    for i in numlist:\n",
    "        tree = DecisionTreeClassifier(random_state=0, max_depth=i)\n",
    "        tree.fit(x, y)\n",
    "        tree.fit(x_train, y_train)\n",
    "        train_acc = tree.score(x_train, y_train)\n",
    "        test_acc = tree.score(x_test, y_test)\n",
    "        \n",
    "        print(\"Desicion treee with max depth of\", i)\n",
    "        print(\"Accuracy rate of training set: \", train_acc)\n",
    "        print(\"Accuracy rate of testing set: \", test_acc)\n",
    "        print(\"*\"*70)"
   ]
  },
  {
   "cell_type": "code",
   "execution_count": 1062,
   "metadata": {},
   "outputs": [
    {
     "name": "stdout",
     "output_type": "stream",
     "text": [
      "Desicion treee with max depth of 4\n",
      "Accuracy rate of training set:  0.7948237059264817\n",
      "Accuracy rate of testing set:  0.7970588235294118\n",
      "**********************************************************************\n",
      "Desicion treee with max depth of 20\n",
      "Accuracy rate of training set:  0.9926856714178545\n",
      "Accuracy rate of testing set:  0.7276470588235294\n",
      "**********************************************************************\n",
      "Desicion treee with max depth of 42\n",
      "Accuracy rate of training set:  0.9977494373593399\n",
      "Accuracy rate of testing set:  0.731764705882353\n",
      "**********************************************************************\n"
     ]
    }
   ],
   "source": [
    "desicion_tree()"
   ]
  },
  {
   "cell_type": "markdown",
   "metadata": {},
   "source": [
    "# Random Forest"
   ]
  },
  {
   "cell_type": "code",
   "execution_count": 985,
   "metadata": {},
   "outputs": [],
   "source": [
    "def random_forrest():\n",
    "    test_acc_list = []\n",
    "    test_depth = []\n",
    "    numlist = [1,3,7,12,14,17,20,21,25,30,31,32,37] #there are more than 3 values for q8\n",
    "    for i in numlist:\n",
    "        clf = RandomForestClassifier(n_estimators=100, max_depth=i)\n",
    "        clf.fit(x_train, y_train)\n",
    "        y_train_pred = clf.predict(x_train)\n",
    "        y_test_pred = clf.predict(x_test)\n",
    "        train_acc = accuracy_score(y_train, y_train_pred)\n",
    "        test_acc = accuracy_score(y_test, y_test_pred)\n",
    "        test_acc_list.append(round(test_acc,4))\n",
    "        test_depth.append(i)\n",
    "        print(\"Random forrest with max depth of\", i,\"and 100 estimators\")\n",
    "        print(\"Success rate of training set: \", train_acc)\n",
    "        print(\"Success rate of testing set: \", test_acc)\n",
    "        print(\"*\"*70)\n",
    "    fig = go.Figure(data=[go.Table(header=dict(values=['Success rate of testing set', 'Max depth']),\n",
    "                                  cells=dict(values=[test_acc_list, test_depth]),\n",
    "                                  )\n",
    "                     ])\n",
    "    fig.update_layout(width=600, height=600)\n",
    "    fig.show()\n",
    "    feature_importances = clf.feature_importances_\n",
    "    features = x_train.columns\n",
    "    stats = pd.DataFrame({'feature':features, 'importance':feature_importances})\n",
    "    print(stats.head(10))\n",
    "    top_10 = stats.sort_values('importance', ascending=False).head(10)\n",
    "    top_10.plot(y='importance', x='feature', kind='barh')\n",
    "    plt.title('Feature Importance of Random Forest');"
   ]
  },
  {
   "cell_type": "code",
   "execution_count": 986,
   "metadata": {
    "scrolled": true
   },
   "outputs": [
    {
     "name": "stdout",
     "output_type": "stream",
     "text": [
      "Random forrest with max depth of 1 and 100 estimators\n",
      "Success rate of training set:  0.7304951237809453\n",
      "Success rate of testing set:  0.7458823529411764\n",
      "**********************************************************************\n",
      "Random forrest with max depth of 3 and 100 estimators\n",
      "Success rate of training set:  0.7880720180045011\n",
      "Success rate of testing set:  0.7894117647058824\n",
      "**********************************************************************\n",
      "Random forrest with max depth of 7 and 100 estimators\n",
      "Success rate of training set:  0.8212678169542386\n",
      "Success rate of testing set:  0.8064705882352942\n",
      "**********************************************************************\n",
      "Random forrest with max depth of 12 and 100 estimators\n",
      "Success rate of training set:  0.9394223555888972\n",
      "Success rate of testing set:  0.8035294117647059\n",
      "**********************************************************************\n",
      "Random forrest with max depth of 14 and 100 estimators\n",
      "Success rate of training set:  0.9795573893473368\n",
      "Success rate of testing set:  0.8029411764705883\n",
      "**********************************************************************\n",
      "Random forrest with max depth of 17 and 100 estimators\n",
      "Success rate of training set:  0.9956864216054013\n",
      "Success rate of testing set:  0.7941176470588235\n",
      "**********************************************************************\n",
      "Random forrest with max depth of 20 and 100 estimators\n",
      "Success rate of training set:  0.9977494373593399\n",
      "Success rate of testing set:  0.7929411764705883\n",
      "**********************************************************************\n",
      "Random forrest with max depth of 21 and 100 estimators\n",
      "Success rate of training set:  0.9975618904726181\n",
      "Success rate of testing set:  0.7935294117647059\n",
      "**********************************************************************\n",
      "Random forrest with max depth of 25 and 100 estimators\n",
      "Success rate of training set:  0.9975618904726181\n",
      "Success rate of testing set:  0.7923529411764706\n",
      "**********************************************************************\n",
      "Random forrest with max depth of 30 and 100 estimators\n",
      "Success rate of training set:  0.9977494373593399\n",
      "Success rate of testing set:  0.7935294117647059\n",
      "**********************************************************************\n",
      "Random forrest with max depth of 31 and 100 estimators\n",
      "Success rate of training set:  0.9977494373593399\n",
      "Success rate of testing set:  0.7964705882352942\n",
      "**********************************************************************\n",
      "Random forrest with max depth of 32 and 100 estimators\n",
      "Success rate of training set:  0.9975618904726181\n",
      "Success rate of testing set:  0.798235294117647\n",
      "**********************************************************************\n",
      "Random forrest with max depth of 37 and 100 estimators\n",
      "Success rate of training set:  0.9977494373593399\n",
      "Success rate of testing set:  0.7917647058823529\n",
      "**********************************************************************\n"
     ]
    },
    {
     "data": {
      "application/vnd.plotly.v1+json": {
       "config": {
        "plotlyServerURL": "https://plot.ly"
       },
       "data": [
        {
         "cells": {
          "values": [
           [
            0.7459,
            0.7894,
            0.8065,
            0.8035,
            0.8029,
            0.7941,
            0.7929,
            0.7935,
            0.7924,
            0.7935,
            0.7965,
            0.7982,
            0.7918
           ],
           [
            1,
            3,
            7,
            12,
            14,
            17,
            20,
            21,
            25,
            30,
            31,
            32,
            37
           ]
          ]
         },
         "header": {
          "values": [
           "Success rate of testing set",
           "Max depth"
          ]
         },
         "type": "table"
        }
       ],
       "layout": {
        "height": 600,
        "template": {
         "data": {
          "bar": [
           {
            "error_x": {
             "color": "#2a3f5f"
            },
            "error_y": {
             "color": "#2a3f5f"
            },
            "marker": {
             "line": {
              "color": "#E5ECF6",
              "width": 0.5
             }
            },
            "type": "bar"
           }
          ],
          "barpolar": [
           {
            "marker": {
             "line": {
              "color": "#E5ECF6",
              "width": 0.5
             }
            },
            "type": "barpolar"
           }
          ],
          "carpet": [
           {
            "aaxis": {
             "endlinecolor": "#2a3f5f",
             "gridcolor": "white",
             "linecolor": "white",
             "minorgridcolor": "white",
             "startlinecolor": "#2a3f5f"
            },
            "baxis": {
             "endlinecolor": "#2a3f5f",
             "gridcolor": "white",
             "linecolor": "white",
             "minorgridcolor": "white",
             "startlinecolor": "#2a3f5f"
            },
            "type": "carpet"
           }
          ],
          "choropleth": [
           {
            "colorbar": {
             "outlinewidth": 0,
             "ticks": ""
            },
            "type": "choropleth"
           }
          ],
          "contour": [
           {
            "colorbar": {
             "outlinewidth": 0,
             "ticks": ""
            },
            "colorscale": [
             [
              0,
              "#0d0887"
             ],
             [
              0.1111111111111111,
              "#46039f"
             ],
             [
              0.2222222222222222,
              "#7201a8"
             ],
             [
              0.3333333333333333,
              "#9c179e"
             ],
             [
              0.4444444444444444,
              "#bd3786"
             ],
             [
              0.5555555555555556,
              "#d8576b"
             ],
             [
              0.6666666666666666,
              "#ed7953"
             ],
             [
              0.7777777777777778,
              "#fb9f3a"
             ],
             [
              0.8888888888888888,
              "#fdca26"
             ],
             [
              1,
              "#f0f921"
             ]
            ],
            "type": "contour"
           }
          ],
          "contourcarpet": [
           {
            "colorbar": {
             "outlinewidth": 0,
             "ticks": ""
            },
            "type": "contourcarpet"
           }
          ],
          "heatmap": [
           {
            "colorbar": {
             "outlinewidth": 0,
             "ticks": ""
            },
            "colorscale": [
             [
              0,
              "#0d0887"
             ],
             [
              0.1111111111111111,
              "#46039f"
             ],
             [
              0.2222222222222222,
              "#7201a8"
             ],
             [
              0.3333333333333333,
              "#9c179e"
             ],
             [
              0.4444444444444444,
              "#bd3786"
             ],
             [
              0.5555555555555556,
              "#d8576b"
             ],
             [
              0.6666666666666666,
              "#ed7953"
             ],
             [
              0.7777777777777778,
              "#fb9f3a"
             ],
             [
              0.8888888888888888,
              "#fdca26"
             ],
             [
              1,
              "#f0f921"
             ]
            ],
            "type": "heatmap"
           }
          ],
          "heatmapgl": [
           {
            "colorbar": {
             "outlinewidth": 0,
             "ticks": ""
            },
            "colorscale": [
             [
              0,
              "#0d0887"
             ],
             [
              0.1111111111111111,
              "#46039f"
             ],
             [
              0.2222222222222222,
              "#7201a8"
             ],
             [
              0.3333333333333333,
              "#9c179e"
             ],
             [
              0.4444444444444444,
              "#bd3786"
             ],
             [
              0.5555555555555556,
              "#d8576b"
             ],
             [
              0.6666666666666666,
              "#ed7953"
             ],
             [
              0.7777777777777778,
              "#fb9f3a"
             ],
             [
              0.8888888888888888,
              "#fdca26"
             ],
             [
              1,
              "#f0f921"
             ]
            ],
            "type": "heatmapgl"
           }
          ],
          "histogram": [
           {
            "marker": {
             "colorbar": {
              "outlinewidth": 0,
              "ticks": ""
             }
            },
            "type": "histogram"
           }
          ],
          "histogram2d": [
           {
            "colorbar": {
             "outlinewidth": 0,
             "ticks": ""
            },
            "colorscale": [
             [
              0,
              "#0d0887"
             ],
             [
              0.1111111111111111,
              "#46039f"
             ],
             [
              0.2222222222222222,
              "#7201a8"
             ],
             [
              0.3333333333333333,
              "#9c179e"
             ],
             [
              0.4444444444444444,
              "#bd3786"
             ],
             [
              0.5555555555555556,
              "#d8576b"
             ],
             [
              0.6666666666666666,
              "#ed7953"
             ],
             [
              0.7777777777777778,
              "#fb9f3a"
             ],
             [
              0.8888888888888888,
              "#fdca26"
             ],
             [
              1,
              "#f0f921"
             ]
            ],
            "type": "histogram2d"
           }
          ],
          "histogram2dcontour": [
           {
            "colorbar": {
             "outlinewidth": 0,
             "ticks": ""
            },
            "colorscale": [
             [
              0,
              "#0d0887"
             ],
             [
              0.1111111111111111,
              "#46039f"
             ],
             [
              0.2222222222222222,
              "#7201a8"
             ],
             [
              0.3333333333333333,
              "#9c179e"
             ],
             [
              0.4444444444444444,
              "#bd3786"
             ],
             [
              0.5555555555555556,
              "#d8576b"
             ],
             [
              0.6666666666666666,
              "#ed7953"
             ],
             [
              0.7777777777777778,
              "#fb9f3a"
             ],
             [
              0.8888888888888888,
              "#fdca26"
             ],
             [
              1,
              "#f0f921"
             ]
            ],
            "type": "histogram2dcontour"
           }
          ],
          "mesh3d": [
           {
            "colorbar": {
             "outlinewidth": 0,
             "ticks": ""
            },
            "type": "mesh3d"
           }
          ],
          "parcoords": [
           {
            "line": {
             "colorbar": {
              "outlinewidth": 0,
              "ticks": ""
             }
            },
            "type": "parcoords"
           }
          ],
          "pie": [
           {
            "automargin": true,
            "type": "pie"
           }
          ],
          "scatter": [
           {
            "marker": {
             "colorbar": {
              "outlinewidth": 0,
              "ticks": ""
             }
            },
            "type": "scatter"
           }
          ],
          "scatter3d": [
           {
            "line": {
             "colorbar": {
              "outlinewidth": 0,
              "ticks": ""
             }
            },
            "marker": {
             "colorbar": {
              "outlinewidth": 0,
              "ticks": ""
             }
            },
            "type": "scatter3d"
           }
          ],
          "scattercarpet": [
           {
            "marker": {
             "colorbar": {
              "outlinewidth": 0,
              "ticks": ""
             }
            },
            "type": "scattercarpet"
           }
          ],
          "scattergeo": [
           {
            "marker": {
             "colorbar": {
              "outlinewidth": 0,
              "ticks": ""
             }
            },
            "type": "scattergeo"
           }
          ],
          "scattergl": [
           {
            "marker": {
             "colorbar": {
              "outlinewidth": 0,
              "ticks": ""
             }
            },
            "type": "scattergl"
           }
          ],
          "scattermapbox": [
           {
            "marker": {
             "colorbar": {
              "outlinewidth": 0,
              "ticks": ""
             }
            },
            "type": "scattermapbox"
           }
          ],
          "scatterpolar": [
           {
            "marker": {
             "colorbar": {
              "outlinewidth": 0,
              "ticks": ""
             }
            },
            "type": "scatterpolar"
           }
          ],
          "scatterpolargl": [
           {
            "marker": {
             "colorbar": {
              "outlinewidth": 0,
              "ticks": ""
             }
            },
            "type": "scatterpolargl"
           }
          ],
          "scatterternary": [
           {
            "marker": {
             "colorbar": {
              "outlinewidth": 0,
              "ticks": ""
             }
            },
            "type": "scatterternary"
           }
          ],
          "surface": [
           {
            "colorbar": {
             "outlinewidth": 0,
             "ticks": ""
            },
            "colorscale": [
             [
              0,
              "#0d0887"
             ],
             [
              0.1111111111111111,
              "#46039f"
             ],
             [
              0.2222222222222222,
              "#7201a8"
             ],
             [
              0.3333333333333333,
              "#9c179e"
             ],
             [
              0.4444444444444444,
              "#bd3786"
             ],
             [
              0.5555555555555556,
              "#d8576b"
             ],
             [
              0.6666666666666666,
              "#ed7953"
             ],
             [
              0.7777777777777778,
              "#fb9f3a"
             ],
             [
              0.8888888888888888,
              "#fdca26"
             ],
             [
              1,
              "#f0f921"
             ]
            ],
            "type": "surface"
           }
          ],
          "table": [
           {
            "cells": {
             "fill": {
              "color": "#EBF0F8"
             },
             "line": {
              "color": "white"
             }
            },
            "header": {
             "fill": {
              "color": "#C8D4E3"
             },
             "line": {
              "color": "white"
             }
            },
            "type": "table"
           }
          ]
         },
         "layout": {
          "annotationdefaults": {
           "arrowcolor": "#2a3f5f",
           "arrowhead": 0,
           "arrowwidth": 1
          },
          "coloraxis": {
           "colorbar": {
            "outlinewidth": 0,
            "ticks": ""
           }
          },
          "colorscale": {
           "diverging": [
            [
             0,
             "#8e0152"
            ],
            [
             0.1,
             "#c51b7d"
            ],
            [
             0.2,
             "#de77ae"
            ],
            [
             0.3,
             "#f1b6da"
            ],
            [
             0.4,
             "#fde0ef"
            ],
            [
             0.5,
             "#f7f7f7"
            ],
            [
             0.6,
             "#e6f5d0"
            ],
            [
             0.7,
             "#b8e186"
            ],
            [
             0.8,
             "#7fbc41"
            ],
            [
             0.9,
             "#4d9221"
            ],
            [
             1,
             "#276419"
            ]
           ],
           "sequential": [
            [
             0,
             "#0d0887"
            ],
            [
             0.1111111111111111,
             "#46039f"
            ],
            [
             0.2222222222222222,
             "#7201a8"
            ],
            [
             0.3333333333333333,
             "#9c179e"
            ],
            [
             0.4444444444444444,
             "#bd3786"
            ],
            [
             0.5555555555555556,
             "#d8576b"
            ],
            [
             0.6666666666666666,
             "#ed7953"
            ],
            [
             0.7777777777777778,
             "#fb9f3a"
            ],
            [
             0.8888888888888888,
             "#fdca26"
            ],
            [
             1,
             "#f0f921"
            ]
           ],
           "sequentialminus": [
            [
             0,
             "#0d0887"
            ],
            [
             0.1111111111111111,
             "#46039f"
            ],
            [
             0.2222222222222222,
             "#7201a8"
            ],
            [
             0.3333333333333333,
             "#9c179e"
            ],
            [
             0.4444444444444444,
             "#bd3786"
            ],
            [
             0.5555555555555556,
             "#d8576b"
            ],
            [
             0.6666666666666666,
             "#ed7953"
            ],
            [
             0.7777777777777778,
             "#fb9f3a"
            ],
            [
             0.8888888888888888,
             "#fdca26"
            ],
            [
             1,
             "#f0f921"
            ]
           ]
          },
          "colorway": [
           "#636efa",
           "#EF553B",
           "#00cc96",
           "#ab63fa",
           "#FFA15A",
           "#19d3f3",
           "#FF6692",
           "#B6E880",
           "#FF97FF",
           "#FECB52"
          ],
          "font": {
           "color": "#2a3f5f"
          },
          "geo": {
           "bgcolor": "white",
           "lakecolor": "white",
           "landcolor": "#E5ECF6",
           "showlakes": true,
           "showland": true,
           "subunitcolor": "white"
          },
          "hoverlabel": {
           "align": "left"
          },
          "hovermode": "closest",
          "mapbox": {
           "style": "light"
          },
          "paper_bgcolor": "white",
          "plot_bgcolor": "#E5ECF6",
          "polar": {
           "angularaxis": {
            "gridcolor": "white",
            "linecolor": "white",
            "ticks": ""
           },
           "bgcolor": "#E5ECF6",
           "radialaxis": {
            "gridcolor": "white",
            "linecolor": "white",
            "ticks": ""
           }
          },
          "scene": {
           "xaxis": {
            "backgroundcolor": "#E5ECF6",
            "gridcolor": "white",
            "gridwidth": 2,
            "linecolor": "white",
            "showbackground": true,
            "ticks": "",
            "zerolinecolor": "white"
           },
           "yaxis": {
            "backgroundcolor": "#E5ECF6",
            "gridcolor": "white",
            "gridwidth": 2,
            "linecolor": "white",
            "showbackground": true,
            "ticks": "",
            "zerolinecolor": "white"
           },
           "zaxis": {
            "backgroundcolor": "#E5ECF6",
            "gridcolor": "white",
            "gridwidth": 2,
            "linecolor": "white",
            "showbackground": true,
            "ticks": "",
            "zerolinecolor": "white"
           }
          },
          "shapedefaults": {
           "line": {
            "color": "#2a3f5f"
           }
          },
          "ternary": {
           "aaxis": {
            "gridcolor": "white",
            "linecolor": "white",
            "ticks": ""
           },
           "baxis": {
            "gridcolor": "white",
            "linecolor": "white",
            "ticks": ""
           },
           "bgcolor": "#E5ECF6",
           "caxis": {
            "gridcolor": "white",
            "linecolor": "white",
            "ticks": ""
           }
          },
          "title": {
           "x": 0.05
          },
          "xaxis": {
           "automargin": true,
           "gridcolor": "white",
           "linecolor": "white",
           "ticks": "",
           "title": {
            "standoff": 15
           },
           "zerolinecolor": "white",
           "zerolinewidth": 2
          },
          "yaxis": {
           "automargin": true,
           "gridcolor": "white",
           "linecolor": "white",
           "ticks": "",
           "title": {
            "standoff": 15
           },
           "zerolinecolor": "white",
           "zerolinewidth": 2
          }
         }
        },
        "width": 600
       }
      },
      "text/html": [
       "<div>\n",
       "        \n",
       "        \n",
       "            <div id=\"f4511d58-6940-4fef-bb49-3125d13589f9\" class=\"plotly-graph-div\" style=\"height:600px; width:600px;\"></div>\n",
       "            <script type=\"text/javascript\">\n",
       "                require([\"plotly\"], function(Plotly) {\n",
       "                    window.PLOTLYENV=window.PLOTLYENV || {};\n",
       "                    \n",
       "                if (document.getElementById(\"f4511d58-6940-4fef-bb49-3125d13589f9\")) {\n",
       "                    Plotly.newPlot(\n",
       "                        'f4511d58-6940-4fef-bb49-3125d13589f9',\n",
       "                        [{\"cells\": {\"values\": [[0.7459, 0.7894, 0.8065, 0.8035, 0.8029, 0.7941, 0.7929, 0.7935, 0.7924, 0.7935, 0.7965, 0.7982, 0.7918], [1, 3, 7, 12, 14, 17, 20, 21, 25, 30, 31, 32, 37]]}, \"header\": {\"values\": [\"Success rate of testing set\", \"Max depth\"]}, \"type\": \"table\"}],\n",
       "                        {\"height\": 600, \"template\": {\"data\": {\"bar\": [{\"error_x\": {\"color\": \"#2a3f5f\"}, \"error_y\": {\"color\": \"#2a3f5f\"}, \"marker\": {\"line\": {\"color\": \"#E5ECF6\", \"width\": 0.5}}, \"type\": \"bar\"}], \"barpolar\": [{\"marker\": {\"line\": {\"color\": \"#E5ECF6\", \"width\": 0.5}}, \"type\": \"barpolar\"}], \"carpet\": [{\"aaxis\": {\"endlinecolor\": \"#2a3f5f\", \"gridcolor\": \"white\", \"linecolor\": \"white\", \"minorgridcolor\": \"white\", \"startlinecolor\": \"#2a3f5f\"}, \"baxis\": {\"endlinecolor\": \"#2a3f5f\", \"gridcolor\": \"white\", \"linecolor\": \"white\", \"minorgridcolor\": \"white\", \"startlinecolor\": \"#2a3f5f\"}, \"type\": \"carpet\"}], \"choropleth\": [{\"colorbar\": {\"outlinewidth\": 0, \"ticks\": \"\"}, \"type\": \"choropleth\"}], \"contour\": [{\"colorbar\": {\"outlinewidth\": 0, \"ticks\": \"\"}, \"colorscale\": [[0.0, \"#0d0887\"], [0.1111111111111111, \"#46039f\"], [0.2222222222222222, \"#7201a8\"], [0.3333333333333333, \"#9c179e\"], [0.4444444444444444, \"#bd3786\"], [0.5555555555555556, \"#d8576b\"], [0.6666666666666666, \"#ed7953\"], [0.7777777777777778, \"#fb9f3a\"], [0.8888888888888888, \"#fdca26\"], [1.0, \"#f0f921\"]], \"type\": \"contour\"}], \"contourcarpet\": [{\"colorbar\": {\"outlinewidth\": 0, \"ticks\": \"\"}, \"type\": \"contourcarpet\"}], \"heatmap\": [{\"colorbar\": {\"outlinewidth\": 0, \"ticks\": \"\"}, \"colorscale\": [[0.0, \"#0d0887\"], [0.1111111111111111, \"#46039f\"], [0.2222222222222222, \"#7201a8\"], [0.3333333333333333, \"#9c179e\"], [0.4444444444444444, \"#bd3786\"], [0.5555555555555556, \"#d8576b\"], [0.6666666666666666, \"#ed7953\"], [0.7777777777777778, \"#fb9f3a\"], [0.8888888888888888, \"#fdca26\"], [1.0, \"#f0f921\"]], \"type\": \"heatmap\"}], \"heatmapgl\": [{\"colorbar\": {\"outlinewidth\": 0, \"ticks\": \"\"}, \"colorscale\": [[0.0, \"#0d0887\"], [0.1111111111111111, \"#46039f\"], [0.2222222222222222, \"#7201a8\"], [0.3333333333333333, \"#9c179e\"], [0.4444444444444444, \"#bd3786\"], [0.5555555555555556, \"#d8576b\"], [0.6666666666666666, \"#ed7953\"], [0.7777777777777778, \"#fb9f3a\"], [0.8888888888888888, \"#fdca26\"], [1.0, \"#f0f921\"]], \"type\": \"heatmapgl\"}], \"histogram\": [{\"marker\": {\"colorbar\": {\"outlinewidth\": 0, \"ticks\": \"\"}}, \"type\": \"histogram\"}], \"histogram2d\": [{\"colorbar\": {\"outlinewidth\": 0, \"ticks\": \"\"}, \"colorscale\": [[0.0, \"#0d0887\"], [0.1111111111111111, \"#46039f\"], [0.2222222222222222, \"#7201a8\"], [0.3333333333333333, \"#9c179e\"], [0.4444444444444444, \"#bd3786\"], [0.5555555555555556, \"#d8576b\"], [0.6666666666666666, \"#ed7953\"], [0.7777777777777778, \"#fb9f3a\"], [0.8888888888888888, \"#fdca26\"], [1.0, \"#f0f921\"]], \"type\": \"histogram2d\"}], \"histogram2dcontour\": [{\"colorbar\": {\"outlinewidth\": 0, \"ticks\": \"\"}, \"colorscale\": [[0.0, \"#0d0887\"], [0.1111111111111111, \"#46039f\"], [0.2222222222222222, \"#7201a8\"], [0.3333333333333333, \"#9c179e\"], [0.4444444444444444, \"#bd3786\"], [0.5555555555555556, \"#d8576b\"], [0.6666666666666666, \"#ed7953\"], [0.7777777777777778, \"#fb9f3a\"], [0.8888888888888888, \"#fdca26\"], [1.0, \"#f0f921\"]], \"type\": \"histogram2dcontour\"}], \"mesh3d\": [{\"colorbar\": {\"outlinewidth\": 0, \"ticks\": \"\"}, \"type\": \"mesh3d\"}], \"parcoords\": [{\"line\": {\"colorbar\": {\"outlinewidth\": 0, \"ticks\": \"\"}}, \"type\": \"parcoords\"}], \"pie\": [{\"automargin\": true, \"type\": \"pie\"}], \"scatter\": [{\"marker\": {\"colorbar\": {\"outlinewidth\": 0, \"ticks\": \"\"}}, \"type\": \"scatter\"}], \"scatter3d\": [{\"line\": {\"colorbar\": {\"outlinewidth\": 0, \"ticks\": \"\"}}, \"marker\": {\"colorbar\": {\"outlinewidth\": 0, \"ticks\": \"\"}}, \"type\": \"scatter3d\"}], \"scattercarpet\": [{\"marker\": {\"colorbar\": {\"outlinewidth\": 0, \"ticks\": \"\"}}, \"type\": \"scattercarpet\"}], \"scattergeo\": [{\"marker\": {\"colorbar\": {\"outlinewidth\": 0, \"ticks\": \"\"}}, \"type\": \"scattergeo\"}], \"scattergl\": [{\"marker\": {\"colorbar\": {\"outlinewidth\": 0, \"ticks\": \"\"}}, \"type\": \"scattergl\"}], \"scattermapbox\": [{\"marker\": {\"colorbar\": {\"outlinewidth\": 0, \"ticks\": \"\"}}, \"type\": \"scattermapbox\"}], \"scatterpolar\": [{\"marker\": {\"colorbar\": {\"outlinewidth\": 0, \"ticks\": \"\"}}, \"type\": \"scatterpolar\"}], \"scatterpolargl\": [{\"marker\": {\"colorbar\": {\"outlinewidth\": 0, \"ticks\": \"\"}}, \"type\": \"scatterpolargl\"}], \"scatterternary\": [{\"marker\": {\"colorbar\": {\"outlinewidth\": 0, \"ticks\": \"\"}}, \"type\": \"scatterternary\"}], \"surface\": [{\"colorbar\": {\"outlinewidth\": 0, \"ticks\": \"\"}, \"colorscale\": [[0.0, \"#0d0887\"], [0.1111111111111111, \"#46039f\"], [0.2222222222222222, \"#7201a8\"], [0.3333333333333333, \"#9c179e\"], [0.4444444444444444, \"#bd3786\"], [0.5555555555555556, \"#d8576b\"], [0.6666666666666666, \"#ed7953\"], [0.7777777777777778, \"#fb9f3a\"], [0.8888888888888888, \"#fdca26\"], [1.0, \"#f0f921\"]], \"type\": \"surface\"}], \"table\": [{\"cells\": {\"fill\": {\"color\": \"#EBF0F8\"}, \"line\": {\"color\": \"white\"}}, \"header\": {\"fill\": {\"color\": \"#C8D4E3\"}, \"line\": {\"color\": \"white\"}}, \"type\": \"table\"}]}, \"layout\": {\"annotationdefaults\": {\"arrowcolor\": \"#2a3f5f\", \"arrowhead\": 0, \"arrowwidth\": 1}, \"coloraxis\": {\"colorbar\": {\"outlinewidth\": 0, \"ticks\": \"\"}}, \"colorscale\": {\"diverging\": [[0, \"#8e0152\"], [0.1, \"#c51b7d\"], [0.2, \"#de77ae\"], [0.3, \"#f1b6da\"], [0.4, \"#fde0ef\"], [0.5, \"#f7f7f7\"], [0.6, \"#e6f5d0\"], [0.7, \"#b8e186\"], [0.8, \"#7fbc41\"], [0.9, \"#4d9221\"], [1, \"#276419\"]], \"sequential\": [[0.0, \"#0d0887\"], [0.1111111111111111, \"#46039f\"], [0.2222222222222222, \"#7201a8\"], [0.3333333333333333, \"#9c179e\"], [0.4444444444444444, \"#bd3786\"], [0.5555555555555556, \"#d8576b\"], [0.6666666666666666, \"#ed7953\"], [0.7777777777777778, \"#fb9f3a\"], [0.8888888888888888, \"#fdca26\"], [1.0, \"#f0f921\"]], \"sequentialminus\": [[0.0, \"#0d0887\"], [0.1111111111111111, \"#46039f\"], [0.2222222222222222, \"#7201a8\"], [0.3333333333333333, \"#9c179e\"], [0.4444444444444444, \"#bd3786\"], [0.5555555555555556, \"#d8576b\"], [0.6666666666666666, \"#ed7953\"], [0.7777777777777778, \"#fb9f3a\"], [0.8888888888888888, \"#fdca26\"], [1.0, \"#f0f921\"]]}, \"colorway\": [\"#636efa\", \"#EF553B\", \"#00cc96\", \"#ab63fa\", \"#FFA15A\", \"#19d3f3\", \"#FF6692\", \"#B6E880\", \"#FF97FF\", \"#FECB52\"], \"font\": {\"color\": \"#2a3f5f\"}, \"geo\": {\"bgcolor\": \"white\", \"lakecolor\": \"white\", \"landcolor\": \"#E5ECF6\", \"showlakes\": true, \"showland\": true, \"subunitcolor\": \"white\"}, \"hoverlabel\": {\"align\": \"left\"}, \"hovermode\": \"closest\", \"mapbox\": {\"style\": \"light\"}, \"paper_bgcolor\": \"white\", \"plot_bgcolor\": \"#E5ECF6\", \"polar\": {\"angularaxis\": {\"gridcolor\": \"white\", \"linecolor\": \"white\", \"ticks\": \"\"}, \"bgcolor\": \"#E5ECF6\", \"radialaxis\": {\"gridcolor\": \"white\", \"linecolor\": \"white\", \"ticks\": \"\"}}, \"scene\": {\"xaxis\": {\"backgroundcolor\": \"#E5ECF6\", \"gridcolor\": \"white\", \"gridwidth\": 2, \"linecolor\": \"white\", \"showbackground\": true, \"ticks\": \"\", \"zerolinecolor\": \"white\"}, \"yaxis\": {\"backgroundcolor\": \"#E5ECF6\", \"gridcolor\": \"white\", \"gridwidth\": 2, \"linecolor\": \"white\", \"showbackground\": true, \"ticks\": \"\", \"zerolinecolor\": \"white\"}, \"zaxis\": {\"backgroundcolor\": \"#E5ECF6\", \"gridcolor\": \"white\", \"gridwidth\": 2, \"linecolor\": \"white\", \"showbackground\": true, \"ticks\": \"\", \"zerolinecolor\": \"white\"}}, \"shapedefaults\": {\"line\": {\"color\": \"#2a3f5f\"}}, \"ternary\": {\"aaxis\": {\"gridcolor\": \"white\", \"linecolor\": \"white\", \"ticks\": \"\"}, \"baxis\": {\"gridcolor\": \"white\", \"linecolor\": \"white\", \"ticks\": \"\"}, \"bgcolor\": \"#E5ECF6\", \"caxis\": {\"gridcolor\": \"white\", \"linecolor\": \"white\", \"ticks\": \"\"}}, \"title\": {\"x\": 0.05}, \"xaxis\": {\"automargin\": true, \"gridcolor\": \"white\", \"linecolor\": \"white\", \"ticks\": \"\", \"title\": {\"standoff\": 15}, \"zerolinecolor\": \"white\", \"zerolinewidth\": 2}, \"yaxis\": {\"automargin\": true, \"gridcolor\": \"white\", \"linecolor\": \"white\", \"ticks\": \"\", \"title\": {\"standoff\": 15}, \"zerolinecolor\": \"white\", \"zerolinewidth\": 2}}}, \"width\": 600},\n",
       "                        {\"responsive\": true}\n",
       "                    ).then(function(){\n",
       "                            \n",
       "var gd = document.getElementById('f4511d58-6940-4fef-bb49-3125d13589f9');\n",
       "var x = new MutationObserver(function (mutations, observer) {{\n",
       "        var display = window.getComputedStyle(gd).display;\n",
       "        if (!display || display === 'none') {{\n",
       "            console.log([gd, 'removed!']);\n",
       "            Plotly.purge(gd);\n",
       "            observer.disconnect();\n",
       "        }}\n",
       "}});\n",
       "\n",
       "// Listen for the removal of the full notebook cells\n",
       "var notebookContainer = gd.closest('#notebook-container');\n",
       "if (notebookContainer) {{\n",
       "    x.observe(notebookContainer, {childList: true});\n",
       "}}\n",
       "\n",
       "// Listen for the clearing of the current output cell\n",
       "var outputEl = gd.closest('.output');\n",
       "if (outputEl) {{\n",
       "    x.observe(outputEl, {childList: true});\n",
       "}}\n",
       "\n",
       "                        })\n",
       "                };\n",
       "                });\n",
       "            </script>\n",
       "        </div>"
      ]
     },
     "metadata": {},
     "output_type": "display_data"
    },
    {
     "name": "stdout",
     "output_type": "stream",
     "text": [
      "          feature  importance\n",
      "0   SeniorCitizen    0.020982\n",
      "1          tenure    0.140898\n",
      "2  MonthlyCharges    0.139997\n",
      "3    TotalCharges    0.162371\n",
      "4   gender_Female    0.018085\n",
      "5     gender_Male    0.017610\n",
      "6      Partner_No    0.014215\n",
      "7     Partner_Yes    0.015103\n",
      "8   Dependents_No    0.012449\n",
      "9  Dependents_Yes    0.011641\n"
     ]
    },
    {
     "data": {
      "image/png": "[encoded data removed]",
      "text/plain": [
       "<Figure size 432x288 with 1 Axes>"
      ]
     },
     "metadata": {
      "needs_background": "light"
     },
     "output_type": "display_data"
    }
   ],
   "source": [
    " random_forrest()\n"
   ]
  },
  {
   "cell_type": "markdown",
   "metadata": {},
   "source": [
    "# AdaBoost"
   ]
  },
  {
   "cell_type": "code",
   "execution_count": 989,
   "metadata": {},
   "outputs": [],
   "source": [
    "def adaboost():\n",
    "    numlist = [7,15,35]\n",
    "    for i in numlist:\n",
    "        base_estimator = DecisionTreeClassifier(max_depth=i)\n",
    "        classifier = AdaBoostClassifier(random_state=0, n_estimators=100, base_estimator=base_estimator)\n",
    "        classifier.fit(x_train, y_train)\n",
    "        print(f'AdaBoost: Train accuracy = {classifier.score(x_train, y_train)}, Test accuracy = {classifier.score(x_test, y_test)}')\n",
    "        print(\"*\"*100)\n",
    " "
   ]
  },
  {
   "cell_type": "code",
   "execution_count": 990,
   "metadata": {},
   "outputs": [
    {
     "name": "stdout",
     "output_type": "stream",
     "text": [
      "AdaBoost: Train accuracy = 0.9977494373593399, Test accuracy = 0.7652941176470588\n",
      "****************************************************************************************************\n",
      "AdaBoost: Train accuracy = 0.9977494373593399, Test accuracy = 0.7829411764705883\n",
      "****************************************************************************************************\n",
      "AdaBoost: Train accuracy = 0.9977494373593399, Test accuracy = 0.7776470588235294\n",
      "****************************************************************************************************\n"
     ]
    }
   ],
   "source": [
    "adaboost()"
   ]
  },
  {
   "cell_type": "markdown",
   "metadata": {},
   "source": [
    "# Q9"
   ]
  },
  {
   "cell_type": "code",
   "execution_count": 1009,
   "metadata": {},
   "outputs": [],
   "source": [
    "def random_forrest_v2(x_train,y_train,x_test,y_test):\n",
    "    test_acc_list = []\n",
    "    numlist = [7]\n",
    "    for i in numlist:\n",
    "        clf = RandomForestClassifier(n_estimators=100, max_depth=i)\n",
    "        clf.fit(x_train, y_train)\n",
    "        y_train_pred = clf.predict(x_train)\n",
    "        y_test_pred = clf.predict(x_test)\n",
    "        train_acc = accuracy_score(y_train, y_train_pred)\n",
    "        test_acc = accuracy_score(y_test, y_test_pred)\n",
    "        print(\"Random forrest with max depth of\", i,\"and 100 estimators\")\n",
    "        print(\"Success rate of training set: \", train_acc)\n",
    "        print(\"Success rate of testing set: \", test_acc)\n",
    "    return test_acc"
   ]
  },
  {
   "cell_type": "code",
   "execution_count": 1014,
   "metadata": {},
   "outputs": [],
   "source": [
    "def q9():\n",
    "    test_acc = []\n",
    "    precent_list = [0.1,0.3,0.5,0.7,0.99]\n",
    "    for i in precent_list:\n",
    "        test_size = int((len(churn)-(len(churn)*i)))\n",
    "        print(\"The size of the training set is \", i*100,\"% of the sampels\")\n",
    "        train, test = train_test_split(numeric_churn, test_size=test_size, random_state=0, shuffle=True)\n",
    "        label = 'Churn_Yes'\n",
    "        x_train, y_train = train.drop(label, axis=1), train[label]\n",
    "        x_test, y_test = test.drop(label, axis=1), test[label]\n",
    "        test_acc.append(random_forrest_v2(x_train,y_train,x_test,y_test))\n",
    "        print(\"*\"*70)\n",
    "    plt.plot(precent_list,test_acc)\n",
    "    plt.title('Random forest accuracy rate by size of training set')\n",
    "    plt.ylabel('Success rate')\n",
    "    plt.xlabel('Size of training set from total sampels ')\n",
    "    plt.show()"
   ]
  },
  {
   "cell_type": "code",
   "execution_count": 1015,
   "metadata": {},
   "outputs": [
    {
     "name": "stdout",
     "output_type": "stream",
     "text": [
      "The size of the training set is  10.0 % of the sampels\n",
      "Random forrest with max depth of 7 and 100 estimators\n",
      "Success rate of training set:  0.899135446685879\n",
      "Success rate of testing set:  0.7999368886083938\n",
      "**********************************************************************\n",
      "The size of the training set is  30.0 % of the sampels\n",
      "Random forrest with max depth of 7 and 100 estimators\n",
      "Success rate of training set:  0.8501427212178877\n",
      "Success rate of testing set:  0.7929006085192698\n",
      "**********************************************************************\n",
      "The size of the training set is  50.0 % of the sampels\n",
      "Random forrest with max depth of 7 and 100 estimators\n",
      "Success rate of training set:  0.8319567074907434\n",
      "Success rate of testing set:  0.8026128940641863\n",
      "**********************************************************************\n",
      "The size of the training set is  70.0 % of the sampels\n",
      "Random forrest with max depth of 7 and 100 estimators\n",
      "Success rate of training set:  0.825\n",
      "Success rate of testing set:  0.7954545454545454\n",
      "**********************************************************************\n",
      "The size of the training set is  99.0 % of the sampels\n",
      "Random forrest with max depth of 7 and 100 estimators\n",
      "Success rate of training set:  0.8177247917265154\n",
      "Success rate of testing set:  0.8571428571428571\n",
      "**********************************************************************\n"
     ]
    },
    {
     "data": {
      "image/png": "[encoded data removed]",
      "text/plain": [
       "<Figure size 432x288 with 1 Axes>"
      ]
     },
     "metadata": {
      "needs_background": "light"
     },
     "output_type": "display_data"
    }
   ],
   "source": [
    "q9()"
   ]
  },
  {
   "cell_type": "code",
   "execution_count": null,
   "metadata": {},
   "outputs": [],
   "source": []
  }
 ],
 "metadata": {
  "kernelspec": {
   "display_name": "Python 3",
   "language": "python",
   "name": "python3"
  },
  "language_info": {
   "codemirror_mode": {
    "name": "ipython",
    "version": 3
   },
   "file_extension": ".py",
   "mimetype": "text/x-python",
   "name": "python",
   "nbconvert_exporter": "python",
   "pygments_lexer": "ipython3",
   "version": "3.7.3"
  }
 },
 "nbformat": 4,
 "nbformat_minor": 2
}
