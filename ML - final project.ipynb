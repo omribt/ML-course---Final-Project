{
 "cells": [
  {
   "cell_type": "code",
   "execution_count": 81,
   "metadata": {
    "scrolled": true
   },
   "outputs": [],
   "source": [
    "from pathlib import Path\n",
    "import pandas as pd\n",
    "import matplotlib.pyplot as plt\n",
    "import numpy as np\n",
    "from sklearn import linear_model\n",
    "from sklearn.linear_model import LinearRegression\n",
    "from sklearn.model_selection import train_test_split\n",
    "from sklearn.neighbors import KNeighborsClassifier\n",
    "from sklearn import preprocessing\n",
    "from sklearn.metrics import accuracy_score\n",
    "from sklearn.tree import DecisionTreeClassifier\n",
    "from sklearn.ensemble import RandomForestClassifier\n",
    "from sklearn.ensemble import AdaBoostClassifier\n",
    "#import plotly.graph_objects as go\n",
    "%matplotlib inline\n",
    "data_dir = Path(\"datasets\")"
   ]
  },
  {
   "cell_type": "code",
   "execution_count": 82,
   "metadata": {},
   "outputs": [],
   "source": [
    "# Churn: predict churn\n",
    "file_path = data_dir / 'churn' / 'churn.csv'\n",
    "churn = pd.read_csv(file_path)"
   ]
  },
  {
   "cell_type": "markdown",
   "metadata": {},
   "source": [
    "# Data Cleaning"
   ]
  },
  {
   "cell_type": "code",
   "execution_count": 83,
   "metadata": {},
   "outputs": [],
   "source": [
    "\n",
    "churn = churn.drop(columns=['customerID'])"
   ]
  },
  {
   "cell_type": "code",
   "execution_count": 84,
   "metadata": {},
   "outputs": [],
   "source": [
    "numeric_churn = churn"
   ]
  },
  {
   "cell_type": "code",
   "execution_count": 85,
   "metadata": {},
   "outputs": [],
   "source": [
    "numeric_churn['TotalCharges'] = pd.to_numeric(numeric_churn.TotalCharges, errors='coerce')"
   ]
  },
  {
   "cell_type": "code",
   "execution_count": 86,
   "metadata": {},
   "outputs": [],
   "source": [
    "numeric_churn = pd.get_dummies(numeric_churn)"
   ]
  },
  {
   "cell_type": "code",
   "execution_count": 87,
   "metadata": {},
   "outputs": [],
   "source": [
    "numeric_churn = numeric_churn.drop(columns = ['Churn_No'])"
   ]
  },
  {
   "cell_type": "code",
   "execution_count": 88,
   "metadata": {},
   "outputs": [],
   "source": [
    "numeric_churn = numeric_churn[numeric_churn.tenure != 0 ]"
   ]
  },
  {
   "cell_type": "code",
   "execution_count": 89,
   "metadata": {},
   "outputs": [],
   "source": [
    "numeric_churn_corr = numeric_churn.corr()"
   ]
  },
  {
   "cell_type": "markdown",
   "metadata": {},
   "source": [
    "# Finding interesting relationships"
   ]
  },
  {
   "cell_type": "code",
   "execution_count": 90,
   "metadata": {},
   "outputs": [],
   "source": [
    "def label_disterbition():\n",
    "    names = ['Yes','No']\n",
    "    values = [churn.Churn[churn.Churn == 'Yes'].count(),churn.Churn[churn.Churn == 'No'].count()]\n",
    "    fig, axs = plt.subplots(1, 1, figsize=(5,5), sharey=True)\n",
    "    axs.bar(names, values)\n",
    "    fig.suptitle('Label Disturbition')"
   ]
  },
  {
   "cell_type": "code",
   "execution_count": 91,
   "metadata": {},
   "outputs": [],
   "source": [
    "def corr_churn():\n",
    "    numeric_churn_corr = numeric_churn.corr()\n",
    "    highest_corr = numeric_churn_corr[numeric_churn_corr.Churn_Yes > 0.25 ]\n",
    "    lowest_corr = numeric_churn_corr[numeric_churn_corr.Churn_Yes < -0.25 ]\n",
    "    highlight_chrun_corr = pd.concat([highest_corr, lowest_corr]  )\n",
    "    highlight_chrun_corr['Churn_Yes'].drop('Churn_Yes').plot(kind='barh',\n",
    "                                                            title='Significant Corrlations with Churn',\n",
    "                                                                             )\n",
    "    "
   ]
  },
  {
   "cell_type": "code",
   "execution_count": 92,
   "metadata": {},
   "outputs": [],
   "source": [
    "def contract_type_compare():\n",
    "    churn_count = (churn.Churn[(churn.Churn == 'Yes')].count())\n",
    "    a = (churn.Churn[(churn.Contract == 'Month-to-month') & (churn.Churn == 'Yes')].count())/(churn_count)\n",
    "    b = (churn.Churn[(churn.Contract == 'One year') & (churn.Churn == 'Yes')].count())/(churn_count)\n",
    "    c = (churn.Churn[(churn.Contract == 'Two year') & (churn.Churn == 'Yes')].count())/(churn_count)\n",
    "    names = ['Month-to-month','One year','Two year']\n",
    "    values = [a,b ,c]\n",
    "    fig, axs = plt.subplots(1, 1, figsize=(5,5), sharey=True )\n",
    "    axs.bar(names, values)\n",
    "    fig.suptitle('Churn by Contract Type')"
   ]
  },
  {
   "cell_type": "code",
   "execution_count": 93,
   "metadata": {},
   "outputs": [
    {
     "data": {
      "image/png": "[encoded data removed]",
      "text/plain": [
       "<Figure size 360x360 with 1 Axes>"
      ]
     },
     "metadata": {
      "needs_background": "light"
     },
     "output_type": "display_data"
    }
   ],
   "source": [
    "label_disterbition()"
   ]
  },
  {
   "cell_type": "code",
   "execution_count": 94,
   "metadata": {},
   "outputs": [
    {
     "data": {
      "image/png": "[encoded data removed]",
      "text/plain": [
       "<Figure size 432x288 with 1 Axes>"
      ]
     },
     "metadata": {
      "needs_background": "light"
     },
     "output_type": "display_data"
    }
   ],
   "source": [
    "corr_churn()"
   ]
  },
  {
   "cell_type": "code",
   "execution_count": 95,
   "metadata": {},
   "outputs": [
    {
     "data": {
      "image/png": "[encoded data removed]",
      "text/plain": [
       "<Figure size 360x360 with 1 Axes>"
      ]
     },
     "metadata": {
      "needs_background": "light"
     },
     "output_type": "display_data"
    }
   ],
   "source": [
    "contract_type_compare()"
   ]
  },
  {
   "cell_type": "markdown",
   "metadata": {},
   "source": [
    "# Data Splitting "
   ]
  },
  {
   "cell_type": "code",
   "execution_count": 96,
   "metadata": {
    "scrolled": true
   },
   "outputs": [
    {
     "name": "stdout",
     "output_type": "stream",
     "text": [
      "(5332, 45) (5332,) (1700, 45) (1700,)\n"
     ]
    }
   ],
   "source": [
    "from sklearn.model_selection import train_test_split\n",
    "test_size = 1700\n",
    "train, test = train_test_split(numeric_churn, test_size=test_size, random_state=0, shuffle=True)\n",
    "label = 'Churn_Yes'\n",
    "x_train, y_train = train.drop(label, axis=1), train[label]\n",
    "x_test, y_test = test.drop(label, axis=1), test[label]\n",
    "print(x_train.shape, y_train.shape, x_test.shape, y_test.shape)"
   ]
  },
  {
   "cell_type": "markdown",
   "metadata": {},
   "source": [
    "# Classification Benchmark"
   ]
  },
  {
   "cell_type": "code",
   "execution_count": 97,
   "metadata": {},
   "outputs": [],
   "source": [
    "def Benchmark_algorithm():\n",
    "    print (\"Majority class benchmark rate :\", (1-(y_train.sum()/y_train.count())))"
   ]
  },
  {
   "cell_type": "code",
   "execution_count": 98,
   "metadata": {},
   "outputs": [
    {
     "name": "stdout",
     "output_type": "stream",
     "text": [
      "Majority class benchmark rate : 0.7304951237809452\n"
     ]
    }
   ],
   "source": [
    "Benchmark_algorithm()"
   ]
  },
  {
   "cell_type": "markdown",
   "metadata": {},
   "source": [
    "# KNN"
   ]
  },
  {
   "cell_type": "code",
   "execution_count": 99,
   "metadata": {},
   "outputs": [],
   "source": [
    "def KNN():\n",
    "    numlist = [4,6,8]\n",
    "    for i in numlist:\n",
    "        clf = KNeighborsClassifier(n_neighbors=(i))\n",
    "        clf.fit(x_train, y_train)\n",
    "        y_train_pred = clf.predict(x_train)\n",
    "        y_test_pred = clf.predict(x_test)\n",
    "        train_acc = accuracy_score(y_train, y_train_pred)\n",
    "        test_acc = accuracy_score(y_test, y_test_pred)\n",
    "        print(\"KNN with\", i, \"Neighbors\")\n",
    "        print(\"Accuracy rate of training set: \", train_acc)\n",
    "        print(\"Accuracy rate of testing set: \", test_acc)\n",
    "        print(\"*\"*70)"
   ]
  },
  {
   "cell_type": "code",
   "execution_count": 100,
   "metadata": {},
   "outputs": [
    {
     "name": "stdout",
     "output_type": "stream",
     "text": [
      "KNN with 4 Neighbors\n",
      "Accuracy rate of training set:  0.8372093023255814\n",
      "Accuracy rate of testing set:  0.7717647058823529\n",
      "**********************************************************************\n",
      "KNN with 6 Neighbors\n",
      "Accuracy rate of training set:  0.8225806451612904\n",
      "Accuracy rate of testing set:  0.7811764705882352\n",
      "**********************************************************************\n",
      "KNN with 8 Neighbors\n",
      "Accuracy rate of training set:  0.8147036759189797\n",
      "Accuracy rate of testing set:  0.7835294117647059\n",
      "**********************************************************************\n"
     ]
    }
   ],
   "source": [
    "KNN()"
   ]
  },
  {
   "cell_type": "markdown",
   "metadata": {},
   "source": [
    "# KNN Scaled"
   ]
  },
  {
   "cell_type": "code",
   "execution_count": 101,
   "metadata": {},
   "outputs": [],
   "source": [
    "def KNN_scaled():\n",
    "    numlist = [4,6,8]\n",
    "    for i in numlist:\n",
    "        from sklearn.preprocessing import StandardScaler\n",
    "        scaler = StandardScaler()\n",
    "        x_train_scaled = scaler.fit_transform(x_train)\n",
    "        x_test_scaled = scaler.transform(x_test)\n",
    "        clf = KNeighborsClassifier(n_neighbors=(i))\n",
    "        clf.fit(x_train_scaled, y_train)\n",
    "        y_train_pred = clf.predict(x_train_scaled)\n",
    "        y_test_pred = clf.predict(x_test_scaled)\n",
    "        train_acc = accuracy_score(y_train, y_train_pred)\n",
    "        test_acc = accuracy_score(y_test, y_test_pred)\n",
    "        print(\"KNN with\", i, \"Neighbors\")\n",
    "        print(\"Accuracy rate of training set: \", train_acc)\n",
    "        print(\"Accuracy rate of testing set: \", test_acc)\n",
    "        print(\"*\"*70)"
   ]
  },
  {
   "cell_type": "code",
   "execution_count": 102,
   "metadata": {},
   "outputs": [
    {
     "name": "stdout",
     "output_type": "stream",
     "text": [
      "KNN with 4 Neighbors\n",
      "Accuracy rate of training set:  0.8372093023255814\n",
      "Accuracy rate of testing set:  0.7711764705882352\n",
      "**********************************************************************\n",
      "KNN with 6 Neighbors\n",
      "Accuracy rate of training set:  0.8238934733683421\n",
      "Accuracy rate of testing set:  0.77\n",
      "**********************************************************************\n",
      "KNN with 8 Neighbors\n",
      "Accuracy rate of training set:  0.8171417854463616\n",
      "Accuracy rate of testing set:  0.7758823529411765\n",
      "**********************************************************************\n"
     ]
    }
   ],
   "source": [
    "KNN_scaled()"
   ]
  },
  {
   "cell_type": "markdown",
   "metadata": {},
   "source": [
    "# Desicion Tree"
   ]
  },
  {
   "cell_type": "code",
   "execution_count": 110,
   "metadata": {},
   "outputs": [],
   "source": [
    "def desicion_tree():\n",
    "    x = numeric_churn.drop('Churn_Yes', axis=1)\n",
    "    y = numeric_churn.Churn_Yes\n",
    "    numlist = [4,20,42]\n",
    "    for i in numlist:\n",
    "        train_acc = []\n",
    "        test_acc = []\n",
    "        tree = DecisionTreeClassifier(random_state=0, max_depth=i)\n",
    "        tree.fit(x, y)\n",
    "        tree.fit(x_train, y_train)\n",
    "        train_acc.append(tree.score(x_train, y_train))\n",
    "        test_acc.append(tree.score(x_test, y_test))\n",
    "        print(\"Desicion treee with max depth of\", i)\n",
    "        print(\"Accuracy rate of training set: \", train_acc)\n",
    "        print(\"Accuracy rate of testing set: \", test_acc)\n",
    "        print(precision_score(x_test,y_test))\n",
    "        print(\"*\"*70)"
   ]
  },
  {
   "cell_type": "code",
   "execution_count": 111,
   "metadata": {},
   "outputs": [
    {
     "name": "stdout",
     "output_type": "stream",
     "text": [
      "Desicion treee with max depth of 4\n",
      "Accuracy rate of training set:  [0.7948237059264817]\n",
      "Accuracy rate of testing set:  [0.7970588235294118]\n"
     ]
    },
    {
     "ename": "NameError",
     "evalue": "name 'precision_score' is not defined",
     "output_type": "error",
     "traceback": [
      "\u001b[1;31m---------------------------------------------------------------------------\u001b[0m",
      "\u001b[1;31mNameError\u001b[0m                                 Traceback (most recent call last)",
      "\u001b[1;32m<ipython-input-111-8e4f126838ea>\u001b[0m in \u001b[0;36m<module>\u001b[1;34m\u001b[0m\n\u001b[1;32m----> 1\u001b[1;33m \u001b[0mdesicion_tree\u001b[0m\u001b[1;33m(\u001b[0m\u001b[1;33m)\u001b[0m\u001b[1;33m\u001b[0m\u001b[1;33m\u001b[0m\u001b[0m\n\u001b[0m",
      "\u001b[1;32m<ipython-input-110-0cbca346e784>\u001b[0m in \u001b[0;36mdesicion_tree\u001b[1;34m()\u001b[0m\n\u001b[0;32m     14\u001b[0m         \u001b[0mprint\u001b[0m\u001b[1;33m(\u001b[0m\u001b[1;34m\"Accuracy rate of training set: \"\u001b[0m\u001b[1;33m,\u001b[0m \u001b[0mtrain_acc\u001b[0m\u001b[1;33m)\u001b[0m\u001b[1;33m\u001b[0m\u001b[1;33m\u001b[0m\u001b[0m\n\u001b[0;32m     15\u001b[0m         \u001b[0mprint\u001b[0m\u001b[1;33m(\u001b[0m\u001b[1;34m\"Accuracy rate of testing set: \"\u001b[0m\u001b[1;33m,\u001b[0m \u001b[0mtest_acc\u001b[0m\u001b[1;33m)\u001b[0m\u001b[1;33m\u001b[0m\u001b[1;33m\u001b[0m\u001b[0m\n\u001b[1;32m---> 16\u001b[1;33m         \u001b[0mprint\u001b[0m\u001b[1;33m(\u001b[0m\u001b[0mprecision_score\u001b[0m\u001b[1;33m(\u001b[0m\u001b[0mx_test\u001b[0m\u001b[1;33m,\u001b[0m\u001b[0my_test\u001b[0m\u001b[1;33m)\u001b[0m\u001b[1;33m)\u001b[0m\u001b[1;33m\u001b[0m\u001b[1;33m\u001b[0m\u001b[0m\n\u001b[0m\u001b[0;32m     17\u001b[0m         \u001b[0mprint\u001b[0m\u001b[1;33m(\u001b[0m\u001b[1;34m\"*\"\u001b[0m\u001b[1;33m*\u001b[0m\u001b[1;36m70\u001b[0m\u001b[1;33m)\u001b[0m\u001b[1;33m\u001b[0m\u001b[1;33m\u001b[0m\u001b[0m\n",
      "\u001b[1;31mNameError\u001b[0m: name 'precision_score' is not defined"
     ]
    }
   ],
   "source": [
    "desicion_tree()"
   ]
  },
  {
   "cell_type": "markdown",
   "metadata": {},
   "source": [
    "# Random Forest"
   ]
  },
  {
   "cell_type": "code",
   "execution_count": 105,
   "metadata": {},
   "outputs": [],
   "source": [
    "def random_forrest():\n",
    "    test_acc_list = []\n",
    "    test_depth = []\n",
    "    numlist = [1,3,7,12,14,17,20,21,25,30,31,32,37] #there are more than 3 values for q8\n",
    "    for i in numlist:\n",
    "        clf = RandomForestClassifier(n_estimators=100, max_depth=i)\n",
    "        clf.fit(x_train, y_train)\n",
    "        y_train_pred = clf.predict(x_train)\n",
    "        y_test_pred = clf.predict(x_test)\n",
    "        train_acc = accuracy_score(y_train, y_train_pred)\n",
    "        test_acc = accuracy_score(y_test, y_test_pred)\n",
    "        test_acc_list.append(round(test_acc,4))\n",
    "        test_depth.append(i)\n",
    "        print(\"Random forrest with max depth of\", i,\"and 100 estimators\")\n",
    "        print(\"Accuracy rate of training set: \", train_acc)\n",
    "        print(\"Accuracy rate of testing set: \", test_acc)\n",
    "        print(\"*\"*70)\n",
    "    fig = go.Figure(data=[go.Table(header=dict(values=['Success rate of testing set', 'Max depth']),\n",
    "                                  cells=dict(values=[test_acc_list, test_depth]),\n",
    "                                  )\n",
    "                     ])\n",
    "    fig.update_layout(width=600, height=600)\n",
    "    fig.show()\n",
    "    feature_importances = clf.feature_importances_\n",
    "    features = x_train.columns\n",
    "    stats = pd.DataFrame({'feature':features, 'importance':feature_importances})\n",
    "    print(stats.head(10))\n",
    "    top_10 = stats.sort_values('importance', ascending=False).head(10)\n",
    "    top_10.plot(y='importance', x='feature', kind='barh')\n",
    "    plt.title('Feature Importance of Random Forest');"
   ]
  },
  {
   "cell_type": "code",
   "execution_count": 106,
   "metadata": {
    "scrolled": true
   },
   "outputs": [
    {
     "name": "stdout",
     "output_type": "stream",
     "text": [
      "Random forrest with max depth of 1 and 100 estimators\n",
      "Accuracy rate of training set:  0.7304951237809453\n",
      "Accuracy rate of testing set:  0.7458823529411764\n",
      "**********************************************************************\n",
      "Random forrest with max depth of 3 and 100 estimators\n",
      "Accuracy rate of training set:  0.786946736684171\n",
      "Accuracy rate of testing set:  0.7864705882352941\n",
      "**********************************************************************\n",
      "Random forrest with max depth of 7 and 100 estimators\n",
      "Accuracy rate of training set:  0.8212678169542386\n",
      "Accuracy rate of testing set:  0.8058823529411765\n",
      "**********************************************************************\n",
      "Random forrest with max depth of 12 and 100 estimators\n",
      "Accuracy rate of training set:  0.9426106526631658\n",
      "Accuracy rate of testing set:  0.7970588235294118\n",
      "**********************************************************************\n",
      "Random forrest with max depth of 14 and 100 estimators\n",
      "Accuracy rate of training set:  0.9795573893473368\n",
      "Accuracy rate of testing set:  0.798235294117647\n",
      "**********************************************************************\n",
      "Random forrest with max depth of 17 and 100 estimators\n",
      "Accuracy rate of training set:  0.9968117029257314\n",
      "Accuracy rate of testing set:  0.7905882352941176\n",
      "**********************************************************************\n",
      "Random forrest with max depth of 20 and 100 estimators\n",
      "Accuracy rate of training set:  0.9977494373593399\n",
      "Accuracy rate of testing set:  0.7923529411764706\n",
      "**********************************************************************\n",
      "Random forrest with max depth of 21 and 100 estimators\n",
      "Accuracy rate of training set:  0.9977494373593399\n",
      "Accuracy rate of testing set:  0.7952941176470588\n",
      "**********************************************************************\n",
      "Random forrest with max depth of 25 and 100 estimators\n",
      "Accuracy rate of training set:  0.9977494373593399\n",
      "Accuracy rate of testing set:  0.7952941176470588\n",
      "**********************************************************************\n",
      "Random forrest with max depth of 30 and 100 estimators\n",
      "Accuracy rate of training set:  0.9977494373593399\n",
      "Accuracy rate of testing set:  0.7952941176470588\n",
      "**********************************************************************\n",
      "Random forrest with max depth of 31 and 100 estimators\n",
      "Accuracy rate of training set:  0.9977494373593399\n",
      "Accuracy rate of testing set:  0.7935294117647059\n",
      "**********************************************************************\n",
      "Random forrest with max depth of 32 and 100 estimators\n",
      "Accuracy rate of training set:  0.9977494373593399\n",
      "Accuracy rate of testing set:  0.7947058823529412\n",
      "**********************************************************************\n",
      "Random forrest with max depth of 37 and 100 estimators\n",
      "Accuracy rate of training set:  0.9977494373593399\n",
      "Accuracy rate of testing set:  0.7894117647058824\n",
      "**********************************************************************\n"
     ]
    },
    {
     "ename": "NameError",
     "evalue": "name 'go' is not defined",
     "output_type": "error",
     "traceback": [
      "\u001b[1;31m---------------------------------------------------------------------------\u001b[0m",
      "\u001b[1;31mNameError\u001b[0m                                 Traceback (most recent call last)",
      "\u001b[1;32m<ipython-input-106-d4a2e81ac03e>\u001b[0m in \u001b[0;36m<module>\u001b[1;34m\u001b[0m\n\u001b[1;32m----> 1\u001b[1;33m \u001b[0mrandom_forrest\u001b[0m\u001b[1;33m(\u001b[0m\u001b[1;33m)\u001b[0m\u001b[1;33m\u001b[0m\u001b[1;33m\u001b[0m\u001b[0m\n\u001b[0m",
      "\u001b[1;32m<ipython-input-105-11297578a5ed>\u001b[0m in \u001b[0;36mrandom_forrest\u001b[1;34m()\u001b[0m\n\u001b[0;32m     16\u001b[0m         \u001b[0mprint\u001b[0m\u001b[1;33m(\u001b[0m\u001b[1;34m\"Accuracy rate of testing set: \"\u001b[0m\u001b[1;33m,\u001b[0m \u001b[0mtest_acc\u001b[0m\u001b[1;33m)\u001b[0m\u001b[1;33m\u001b[0m\u001b[1;33m\u001b[0m\u001b[0m\n\u001b[0;32m     17\u001b[0m         \u001b[0mprint\u001b[0m\u001b[1;33m(\u001b[0m\u001b[1;34m\"*\"\u001b[0m\u001b[1;33m*\u001b[0m\u001b[1;36m70\u001b[0m\u001b[1;33m)\u001b[0m\u001b[1;33m\u001b[0m\u001b[1;33m\u001b[0m\u001b[0m\n\u001b[1;32m---> 18\u001b[1;33m     fig = go.Figure(data=[go.Table(header=dict(values=['Success rate of testing set', 'Max depth']),\n\u001b[0m\u001b[0;32m     19\u001b[0m                                   \u001b[0mcells\u001b[0m\u001b[1;33m=\u001b[0m\u001b[0mdict\u001b[0m\u001b[1;33m(\u001b[0m\u001b[0mvalues\u001b[0m\u001b[1;33m=\u001b[0m\u001b[1;33m[\u001b[0m\u001b[0mtest_acc_list\u001b[0m\u001b[1;33m,\u001b[0m \u001b[0mtest_depth\u001b[0m\u001b[1;33m]\u001b[0m\u001b[1;33m)\u001b[0m\u001b[1;33m,\u001b[0m\u001b[1;33m\u001b[0m\u001b[1;33m\u001b[0m\u001b[0m\n\u001b[0;32m     20\u001b[0m                                   )\n",
      "\u001b[1;31mNameError\u001b[0m: name 'go' is not defined"
     ]
    }
   ],
   "source": [
    " random_forrest()\n"
   ]
  },
  {
   "cell_type": "markdown",
   "metadata": {},
   "source": [
    "# AdaBoost"
   ]
  },
  {
   "cell_type": "code",
   "execution_count": null,
   "metadata": {},
   "outputs": [],
   "source": [
    "def adaboost():\n",
    "    numlist = [7,15,35]\n",
    "    for i in numlist:\n",
    "        base_estimator = DecisionTreeClassifier(max_depth=i)\n",
    "        classifier = AdaBoostClassifier(random_state=0, n_estimators=100, base_estimator=base_estimator)\n",
    "        classifier.fit(x_train, y_train)\n",
    "        print(f'AdaBoost: Train accuracy = {classifier.score(x_train, y_train)}, Test accuracy = {classifier.score(x_test, y_test)}')\n",
    "        print(\"*\"*100)\n",
    " "
   ]
  },
  {
   "cell_type": "code",
   "execution_count": null,
   "metadata": {},
   "outputs": [],
   "source": [
    "adaboost()"
   ]
  },
  {
   "cell_type": "markdown",
   "metadata": {},
   "source": [
    "# Q9"
   ]
  },
  {
   "cell_type": "code",
   "execution_count": 107,
   "metadata": {},
   "outputs": [],
   "source": [
    "def random_forrest_v2(x_train,y_train,x_test,y_test):\n",
    "    test_acc_list = []\n",
    "    numlist = [7]\n",
    "    for i in numlist:\n",
    "        clf = RandomForestClassifier(n_estimators=100, max_depth=i)\n",
    "        clf.fit(x_train, y_train)\n",
    "        y_train_pred = clf.predict(x_train)\n",
    "        y_test_pred = clf.predict(x_test)\n",
    "        train_acc = accuracy_score(y_train, y_train_pred)\n",
    "        test_acc = accuracy_score(y_test, y_test_pred)\n",
    "        print(\"Random forrest with max depth of\", i,\"and 100 estimators\")\n",
    "        print(\"Accuracy rate of training set: \", train_acc)\n",
    "        print(\"Accuracy rate of testing set: \", test_acc)\n",
    "    return test_acc"
   ]
  },
  {
   "cell_type": "code",
   "execution_count": 108,
   "metadata": {},
   "outputs": [],
   "source": [
    "def q9():\n",
    "    test_acc = []\n",
    "    precent_list = [0.1,0.3,0.5,0.7,0.99]\n",
    "    for i in precent_list:\n",
    "        test_size = int((len(churn)-(len(churn)*i)))\n",
    "        print(\"The size of the training set is \", i*100,\"% of the sampels\")\n",
    "        train, test = train_test_split(numeric_churn, test_size=test_size, random_state=0, shuffle=True)\n",
    "        label = 'Churn_Yes'\n",
    "        x_train, y_train = train.drop(label, axis=1), train[label]\n",
    "        x_test, y_test = test.drop(label, axis=1), test[label]\n",
    "        test_acc.append(random_forrest_v2(x_train,y_train,x_test,y_test))\n",
    "        print(\"*\"*70)\n",
    "    plt.plot(precent_list,test_acc)\n",
    "    plt.title('Random forest accuracy rate by size of training set')\n",
    "    plt.ylabel('Accuracy rate')\n",
    "    plt.xlabel('Size of training set from total sampels ')\n",
    "    plt.show()"
   ]
  },
  {
   "cell_type": "code",
   "execution_count": 109,
   "metadata": {},
   "outputs": [
    {
     "name": "stdout",
     "output_type": "stream",
     "text": [
      "The size of the training set is  10.0 % of the sampels\n",
      "Random forrest with max depth of 7 and 100 estimators\n",
      "Accuracy rate of training set:  0.9121037463976945\n",
      "Accuracy rate of testing set:  0.7978857683811929\n",
      "**********************************************************************\n",
      "The size of the training set is  30.0 % of the sampels\n",
      "Random forrest with max depth of 7 and 100 estimators\n",
      "Accuracy rate of training set:  0.845861084681256\n",
      "Accuracy rate of testing set:  0.7922920892494929\n",
      "**********************************************************************\n",
      "The size of the training set is  50.0 % of the sampels\n",
      "Random forrest with max depth of 7 and 100 estimators\n",
      "Accuracy rate of training set:  0.8305326117915124\n",
      "Accuracy rate of testing set:  0.801476853166714\n",
      "**********************************************************************\n",
      "The size of the training set is  70.0 % of the sampels\n",
      "Random forrest with max depth of 7 and 100 estimators\n",
      "Accuracy rate of training set:  0.8268292682926829\n",
      "Accuracy rate of testing set:  0.7930871212121212\n",
      "**********************************************************************\n",
      "The size of the training set is  99.0 % of the sampels\n",
      "Random forrest with max depth of 7 and 100 estimators\n",
      "Accuracy rate of training set:  0.8185866130422292\n",
      "Accuracy rate of testing set:  0.8571428571428571\n",
      "**********************************************************************\n"
     ]
    },
    {
     "data": {
      "image/png": "[encoded data removed]",
      "text/plain": [
       "<Figure size 432x288 with 1 Axes>"
      ]
     },
     "metadata": {
      "needs_background": "light"
     },
     "output_type": "display_data"
    }
   ],
   "source": [
    "q9()"
   ]
  },
  {
   "cell_type": "code",
   "execution_count": null,
   "metadata": {},
   "outputs": [],
   "source": []
  }
 ],
 "metadata": {
  "kernelspec": {
   "display_name": "Python 3",
   "language": "python",
   "name": "python3"
  },
  "language_info": {
   "codemirror_mode": {
    "name": "ipython",
    "version": 3
   },
   "file_extension": ".py",
   "mimetype": "text/x-python",
   "name": "python",
   "nbconvert_exporter": "python",
   "pygments_lexer": "ipython3",
   "version": "3.7.6"
  }
 },
 "nbformat": 4,
 "nbformat_minor": 2
}
